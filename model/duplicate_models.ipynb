{
 "cells": [
  {
   "cell_type": "code",
   "execution_count": 2,
   "metadata": {
    "ExecuteTime": {
     "end_time": "2020-06-10T21:21:31.768560Z",
     "start_time": "2020-06-10T21:21:31.765735Z"
    }
   },
   "outputs": [],
   "source": [
    "from glob import glob\n",
    "import os\n",
    "from shutil import copytree"
   ]
  },
  {
   "cell_type": "code",
   "execution_count": 3,
   "metadata": {
    "ExecuteTime": {
     "end_time": "2020-06-10T21:21:31.944406Z",
     "start_time": "2020-06-10T21:21:31.934338Z"
    }
   },
   "outputs": [
    {
     "data": {
      "text/plain": [
       "30"
      ]
     },
     "execution_count": 3,
     "metadata": {},
     "output_type": "execute_result"
    }
   ],
   "source": [
    "seeds = list(range(3, 93, 3))\n",
    "len(seeds)"
   ]
  },
  {
   "cell_type": "code",
   "execution_count": 22,
   "metadata": {
    "ExecuteTime": {
     "end_time": "2020-06-10T21:30:00.962287Z",
     "start_time": "2020-06-10T21:30:00.957676Z"
    }
   },
   "outputs": [
    {
     "data": {
      "text/plain": [
       "['./av_fs_dt/', './av_fs_lgb/', 'av_fs_rf/', 'av_ipw/', 'av_val/', 'baseline/']"
      ]
     },
     "execution_count": 22,
     "metadata": {},
     "output_type": "execute_result"
    }
   ],
   "source": [
    "model_dirs = ['./av_fs_dt/', './av_fs_lgb/', 'av_fs_rf/', 'av_ipw/', 'av_val/', 'baseline/']\n",
    "model_dirs"
   ]
  },
  {
   "cell_type": "code",
   "execution_count": 23,
   "metadata": {
    "ExecuteTime": {
     "end_time": "2020-06-10T21:30:18.701035Z",
     "start_time": "2020-06-10T21:30:18.686919Z"
    }
   },
   "outputs": [
    {
     "name": "stdout",
     "output_type": "stream",
     "text": [
      "copying ./av_fs_dt/ to ./av_fs_dt_03\n",
      "copying ./av_fs_dt/ to ./av_fs_dt_06\n",
      "copying ./av_fs_dt/ to ./av_fs_dt_09\n"
     ]
    }
   ],
   "source": [
    "for model_dir in model_dirs:\n",
    "    for seed in seeds:\n",
    "        new_dir = f'{os.path.dirname(model_dir)}_{seed:02d}'\n",
    "        if not os.path.exists(new_dir):\n",
    "            print(f'copying {model_dir} to {new_dir}')\n",
    "            copytree(model_dir, new_dir)"
   ]
  },
  {
   "cell_type": "code",
   "execution_count": null,
   "metadata": {},
   "outputs": [],
   "source": []
  }
 ],
 "metadata": {
  "kernelspec": {
   "display_name": "Python 3",
   "language": "python",
   "name": "python3"
  },
  "language_info": {
   "codemirror_mode": {
    "name": "ipython",
    "version": 3
   },
   "file_extension": ".py",
   "mimetype": "text/x-python",
   "name": "python",
   "nbconvert_exporter": "python",
   "pygments_lexer": "ipython3",
   "version": "3.7.6"
  },
  "toc": {
   "base_numbering": 1,
   "nav_menu": {},
   "number_sections": true,
   "sideBar": true,
   "skip_h1_title": false,
   "title_cell": "Table of Contents",
   "title_sidebar": "Contents",
   "toc_cell": false,
   "toc_position": {},
   "toc_section_display": true,
   "toc_window_display": false
  }
 },
 "nbformat": 4,
 "nbformat_minor": 4
}
